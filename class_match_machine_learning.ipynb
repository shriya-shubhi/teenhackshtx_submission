{
  "nbformat": 4,
  "nbformat_minor": 0,
  "metadata": {
    "colab": {
      "name": "su-class-match.ipynb",
      "provenance": [],
      "collapsed_sections": [
        "-I-XZ6dRsyEN",
        "JlH2jf4tuU4x",
        "oVfI5lQjup5N",
        "ACcZrMtWu0jY",
        "MA2Zt0wXu-l9",
        "Ogr1LjNcwA-X",
        "yN_9QCA1wWqX",
        "Bb6Y8eCcwyTS",
        "YJK_xHrRxanl",
        "PMrbg6yHxhu-",
        "5e2nor1axubD",
        "4xXZHTiEyN2f"
      ],
      "authorship_tag": "ABX9TyOPF6kY81Cdvcs48lIH/I/D",
      "include_colab_link": true
    },
    "kernelspec": {
      "name": "python3",
      "display_name": "Python 3"
    }
  },
  "cells": [
    {
      "cell_type": "markdown",
      "metadata": {
        "id": "view-in-github",
        "colab_type": "text"
      },
      "source": [
        "<a href=\"https://colab.research.google.com/github/shriya-shubhi/teenhackshtx_submission/blob/master/class_match_machine_learning.ipynb\" target=\"_parent\"><img src=\"https://colab.research.google.com/assets/colab-badge.svg\" alt=\"Open In Colab\"/></a>"
      ]
    },
    {
      "cell_type": "markdown",
      "metadata": {
        "id": "-I-XZ6dRsyEN",
        "colab_type": "text"
      },
      "source": [
        "# Title: Leveraging **Machine learning** to optimize virtual **class matching** for high schoolers for best learning **experience**\n",
        "\n"
      ]
    },
    {
      "cell_type": "markdown",
      "metadata": {
        "id": "JE4XCmT41ORn",
        "colab_type": "text"
      },
      "source": [
        "\n",
        "\n",
        "Problem: During the corona virus time, many high-schoolers have been following different schedule of study. Some have been an early risers while others night owls. This pattern results in each high schoolers having a different times when he / she is alert. However, regardless of alertness, all of them have to attends the classes time.\n",
        "\n",
        "**Solution**: This program will learn from the high-schoolers activity pattern throughout the day. Based on the students alertness time zone, it will connect with the school, so that the teachers can use the information."
      ]
    },
    {
      "cell_type": "markdown",
      "metadata": {
        "id": "631NpIDNB0Iq",
        "colab_type": "text"
      },
      "source": [
        "\n",
        "\n",
        "*   Wake-up time\n",
        "*   Sleep time\n",
        "*   Eating time(s)\n",
        "*   Snacking time(s)\n",
        "*   Home work time(s)\n",
        "*   Exercise time(s)\n",
        "*   Social time(s)\n",
        "*   Social Media time (s)\n",
        "*   Screen time(s)\n",
        "\n",
        "\n",
        "\n",
        "\n",
        "\n",
        "\n"
      ]
    },
    {
      "cell_type": "markdown",
      "metadata": {
        "id": "JlH2jf4tuU4x",
        "colab_type": "text"
      },
      "source": [
        "# HOW did we do it?\n",
        "### Define the actitivies we capture"
      ]
    },
    {
      "cell_type": "code",
      "metadata": {
        "id": "QxiakqABWPYM",
        "colab_type": "code",
        "colab": {}
      },
      "source": [
        "all_activtities = [\n",
        "            'wakeup_time',\n",
        "            'first_snack_time',\n",
        "            'second_snack_time',\n",
        "            'home_work_time',\n",
        "            'exercise_1_time',\n",
        "            'exercise_2_time',\n",
        "            'reading_time',\n",
        "            'social_media_time',\n",
        "            'freinds_and_family_time',\n",
        "            'health_condition',\n",
        "            ]"
      ],
      "execution_count": 0,
      "outputs": []
    },
    {
      "cell_type": "markdown",
      "metadata": {
        "id": "oVfI5lQjup5N",
        "colab_type": "text"
      },
      "source": [
        "### Activities we have tested so far."
      ]
    },
    {
      "cell_type": "code",
      "metadata": {
        "id": "WP34TfF2cOSu",
        "colab_type": "code",
        "colab": {}
      },
      "source": [
        "tested_activities = ['wakeup_time', 'sleep_time']"
      ],
      "execution_count": 0,
      "outputs": []
    },
    {
      "cell_type": "markdown",
      "metadata": {
        "id": "ACcZrMtWu0jY",
        "colab_type": "text"
      },
      "source": [
        "### Import Libraries "
      ]
    },
    {
      "cell_type": "code",
      "metadata": {
        "id": "B7r7wArAWzue",
        "colab_type": "code",
        "colab": {}
      },
      "source": [
        "import pandas as pd\n",
        "import numpy as np\n",
        "import matplotlib.pyplot as plt\n",
        "from sklearn.model_selection import train_test_split"
      ],
      "execution_count": 0,
      "outputs": []
    },
    {
      "cell_type": "markdown",
      "metadata": {
        "id": "MA2Zt0wXu-l9",
        "colab_type": "text"
      },
      "source": [
        "### Generate Synthetic Data for each activity"
      ]
    },
    {
      "cell_type": "code",
      "metadata": {
        "id": "gUg6-yOTb4vG",
        "colab_type": "code",
        "outputId": "4ef25d44-40f9-44e9-da15-a41b56db5c26",
        "colab": {
          "base_uri": "https://localhost:8080/",
          "height": 51
        }
      },
      "source": [
        "wake_up_times = np.random.randint(low=4, high=11, size=10000)\n",
        "sleep_times = np.random.randint(low=18, high=24, size=10000)\n",
        "snack_times = np.random.randint(low=10, high=16, size=10000)\n",
        "ex_times = np.random.randint(low=15, high=20, size=10000)\n",
        "print(\"sample wake up data: \", wake_up_times[:5])\n",
        "print(\"sample sleep  data: \", sleep_times[:5])"
      ],
      "execution_count": 60,
      "outputs": [
        {
          "output_type": "stream",
          "text": [
            "sample wake up data:  [ 7  6 10  7 10]\n",
            "sample sleep  data:  [18 21 19 22 21]\n"
          ],
          "name": "stdout"
        }
      ]
    },
    {
      "cell_type": "markdown",
      "metadata": {
        "id": "rEGXrWhOvygd",
        "colab_type": "text"
      },
      "source": [
        "### Label the type of student based on Synthetic data"
      ]
    },
    {
      "cell_type": "code",
      "metadata": {
        "id": "s6S5jfRefVnB",
        "colab_type": "code",
        "outputId": "7a3ea575-16c9-445d-c0ce-0abe40842648",
        "colab": {
          "base_uri": "https://localhost:8080/",
          "height": 34
        }
      },
      "source": [
        "#We are checking if a student wakes up before 8 and sleeps before 9pm, then student is a morning person\n",
        "morning_person = [ 1 if x < 8 and y < 21 else 0 for x, y in zip(wake_up_times,sleep_times)]\n",
        "morning_person[:5]"
      ],
      "execution_count": 72,
      "outputs": [
        {
          "output_type": "execute_result",
          "data": {
            "text/plain": [
              "[1, 0, 0, 0, 0]"
            ]
          },
          "metadata": {
            "tags": []
          },
          "execution_count": 72
        }
      ]
    },
    {
      "cell_type": "markdown",
      "metadata": {
        "id": "Ogr1LjNcwA-X",
        "colab_type": "text"
      },
      "source": [
        "### Prepare the activity data for Machine learning Model"
      ]
    },
    {
      "cell_type": "code",
      "metadata": {
        "id": "e2g_KR5ZhziK",
        "colab_type": "code",
        "outputId": "8668780d-add3-450f-cf6a-916944fbe3d8",
        "colab": {
          "base_uri": "https://localhost:8080/",
          "height": 153
        }
      },
      "source": [
        "l1 = [wake_up_times, sleep_times, morning_person]\n",
        "activities_dataframe = pd.DataFrame( columns=['Wakeup_time', 'sleep_time', 'morning_person'])\n",
        "\n",
        "activities_dataframe['Wakeup_time'] = wake_up_times\n",
        "activities_dataframe['sleep_time'] = sleep_times\n",
        "activities_dataframe['morning_person'] = morning_person\n",
        "print(\"\\t ***First FiveMorning Persos******\\n\")\n",
        "print( activities_dataframe[activities_dataframe['morning_person'] == 1][:5])"
      ],
      "execution_count": 43,
      "outputs": [
        {
          "output_type": "stream",
          "text": [
            "\t ***First FiveMorning Persos******\n",
            "\n",
            "    Wakeup_time  sleep_time  morning_person\n",
            "1             6          18               1\n",
            "2             4          20               1\n",
            "8             5          18               1\n",
            "12            5          19               1\n",
            "13            6          19               1\n"
          ],
          "name": "stdout"
        }
      ]
    },
    {
      "cell_type": "code",
      "metadata": {
        "id": "svP76QeM5R-B",
        "colab_type": "code",
        "colab": {
          "base_uri": "https://localhost:8080/",
          "height": 153
        },
        "outputId": "e0a9e80d-51eb-4336-f647-c9db244c1f26"
      },
      "source": [
        "print(\"\\t ****First Five Evening Persos***\\n\")\n",
        "print( activities_dataframe[activities_dataframe['morning_person'] == 0][:5])"
      ],
      "execution_count": 44,
      "outputs": [
        {
          "output_type": "stream",
          "text": [
            "\t ****First Five Evening Persos***\n",
            "\n",
            "   Wakeup_time  sleep_time  morning_person\n",
            "0            8          20               0\n",
            "3            8          22               0\n",
            "4            9          20               0\n",
            "5            9          19               0\n",
            "6            4          21               0\n"
          ],
          "name": "stdout"
        }
      ]
    },
    {
      "cell_type": "markdown",
      "metadata": {
        "id": "yN_9QCA1wWqX",
        "colab_type": "text"
      },
      "source": [
        "### Create a MATRIX of Data for Machine Learning Model"
      ]
    },
    {
      "cell_type": "code",
      "metadata": {
        "id": "7xUVLf9xnEe7",
        "colab_type": "code",
        "outputId": "b15ee5df-9c4a-4b33-9b49-d31706917b10",
        "colab": {
          "base_uri": "https://localhost:8080/",
          "height": 102
        }
      },
      "source": [
        "X = activities_dataframe.iloc[:,[0,1]].values\n",
        "X[:5]"
      ],
      "execution_count": 45,
      "outputs": [
        {
          "output_type": "execute_result",
          "data": {
            "text/plain": [
              "array([[ 8, 20],\n",
              "       [ 6, 18],\n",
              "       [ 4, 20],\n",
              "       [ 8, 22],\n",
              "       [ 9, 20]])"
            ]
          },
          "metadata": {
            "tags": []
          },
          "execution_count": 45
        }
      ]
    },
    {
      "cell_type": "code",
      "metadata": {
        "id": "jBwNy42znswx",
        "colab_type": "code",
        "outputId": "9f63c995-b3f4-4e16-f89c-14c80853b611",
        "colab": {
          "base_uri": "https://localhost:8080/",
          "height": 34
        }
      },
      "source": [
        "y = activities_dataframe.iloc[:,2].values\n",
        "y[:5]"
      ],
      "execution_count": 46,
      "outputs": [
        {
          "output_type": "execute_result",
          "data": {
            "text/plain": [
              "array([0, 1, 1, 0, 0])"
            ]
          },
          "metadata": {
            "tags": []
          },
          "execution_count": 46
        }
      ]
    },
    {
      "cell_type": "markdown",
      "metadata": {
        "id": "Bb6Y8eCcwyTS",
        "colab_type": "text"
      },
      "source": [
        "### Data splitting for Training and Testing the model"
      ]
    },
    {
      "cell_type": "code",
      "metadata": {
        "id": "xKGGdRzrn7IR",
        "colab_type": "code",
        "outputId": "2f73da7d-df91-4dab-fa07-d06e288f6cfb",
        "colab": {
          "base_uri": "https://localhost:8080/",
          "height": 102
        }
      },
      "source": [
        "X_train, X_test, y_train, y_test = train_test_split(X, y, test_size=0.10)\n",
        "print(\"triaining data\", X_train[:5])"
      ],
      "execution_count": 61,
      "outputs": [
        {
          "output_type": "stream",
          "text": [
            "triaining data [[ 5 20]\n",
            " [ 5 18]\n",
            " [ 5 22]\n",
            " [ 4 19]\n",
            " [ 7 22]]\n"
          ],
          "name": "stdout"
        }
      ]
    },
    {
      "cell_type": "markdown",
      "metadata": {
        "id": "YJK_xHrRxanl",
        "colab_type": "text"
      },
      "source": [
        "### Scaling of Data"
      ]
    },
    {
      "cell_type": "code",
      "metadata": {
        "id": "HShKFC3OoTJR",
        "colab_type": "code",
        "outputId": "1757d3dd-0b36-4c40-cfb8-4f109b0824b0",
        "colab": {
          "base_uri": "https://localhost:8080/",
          "height": 102
        }
      },
      "source": [
        "from sklearn.preprocessing import StandardScaler\n",
        "sc_X = StandardScaler()\n",
        "X_train = sc_X.fit_transform(X_train)\n",
        "X_test = sc_X.transform(X_test)\n",
        "X_test[:5]"
      ],
      "execution_count": 0,
      "outputs": [
        {
          "output_type": "execute_result",
          "data": {
            "text/plain": [
              "array([[ 0.48974614,  1.45933685],\n",
              "       [-1.50217146,  0.28422129],\n",
              "       [ 1.48570494,  0.28422129],\n",
              "       [ 0.48974614,  0.28422129],\n",
              "       [ 0.48974614,  0.28422129]])"
            ]
          },
          "metadata": {
            "tags": []
          },
          "execution_count": 113
        }
      ]
    },
    {
      "cell_type": "markdown",
      "metadata": {
        "id": "PMrbg6yHxhu-",
        "colab_type": "text"
      },
      "source": [
        "# Create a Machine Learning Model"
      ]
    },
    {
      "cell_type": "code",
      "metadata": {
        "id": "QMuIktFqpgwr",
        "colab_type": "code",
        "outputId": "0d989242-01f9-47d1-bf2f-6095a7b824b2",
        "colab": {
          "base_uri": "https://localhost:8080/",
          "height": 102
        }
      },
      "source": [
        "from sklearn.linear_model import LogisticRegression\n",
        "model = LogisticRegression(random_state =0)\n",
        "print(\"Logistic Regression Model\", model)"
      ],
      "execution_count": 50,
      "outputs": [
        {
          "output_type": "stream",
          "text": [
            "Logistic Regression Model LogisticRegression(C=1.0, class_weight=None, dual=False, fit_intercept=True,\n",
            "                   intercept_scaling=1, l1_ratio=None, max_iter=100,\n",
            "                   multi_class='auto', n_jobs=None, penalty='l2',\n",
            "                   random_state=0, solver='lbfgs', tol=0.0001, verbose=0,\n",
            "                   warm_start=False)\n"
          ],
          "name": "stdout"
        }
      ]
    },
    {
      "cell_type": "markdown",
      "metadata": {
        "id": "5e2nor1axubD",
        "colab_type": "text"
      },
      "source": [
        "# Train the Machine Learning Model"
      ]
    },
    {
      "cell_type": "code",
      "metadata": {
        "id": "AUwYQmsS7oZD",
        "colab_type": "code",
        "colab": {
          "base_uri": "https://localhost:8080/",
          "height": 374
        },
        "outputId": "acaab627-9502-4837-f7dc-9b3887947726"
      },
      "source": [
        "print(\"training data :>>\", X_train[5:25])\n",
        "print(\"training label:>>\", y_train[5:25])"
      ],
      "execution_count": 56,
      "outputs": [
        {
          "output_type": "stream",
          "text": [
            "training data :>> [[ 5 19]\n",
            " [ 4 18]\n",
            " [ 9 21]\n",
            " [ 5 23]\n",
            " [ 7 22]\n",
            " [10 22]\n",
            " [10 19]\n",
            " [ 7 23]\n",
            " [ 6 18]\n",
            " [ 5 22]\n",
            " [ 5 18]\n",
            " [ 5 22]\n",
            " [ 6 19]\n",
            " [ 9 19]\n",
            " [ 4 23]\n",
            " [10 18]\n",
            " [10 18]\n",
            " [ 9 18]\n",
            " [ 6 18]\n",
            " [ 8 18]]\n",
            "training label:>> [1 1 0 0 0 0 0 0 1 0 1 0 1 0 0 0 0 0 1 0]\n"
          ],
          "name": "stdout"
        }
      ]
    },
    {
      "cell_type": "code",
      "metadata": {
        "id": "znX21eprxsWq",
        "colab_type": "code",
        "colab": {
          "base_uri": "https://localhost:8080/",
          "height": 102
        },
        "outputId": "c196e532-4292-4c7a-d8bd-4afffc78ec0f"
      },
      "source": [
        "model.fit(X_train, y_train)"
      ],
      "execution_count": 62,
      "outputs": [
        {
          "output_type": "execute_result",
          "data": {
            "text/plain": [
              "LogisticRegression(C=1.0, class_weight=None, dual=False, fit_intercept=True,\n",
              "                   intercept_scaling=1, l1_ratio=None, max_iter=100,\n",
              "                   multi_class='auto', n_jobs=None, penalty='l2',\n",
              "                   random_state=0, solver='lbfgs', tol=0.0001, verbose=0,\n",
              "                   warm_start=False)"
            ]
          },
          "metadata": {
            "tags": []
          },
          "execution_count": 62
        }
      ]
    },
    {
      "cell_type": "markdown",
      "metadata": {
        "id": "mOOSGuEdxzr5",
        "colab_type": "text"
      },
      "source": [
        "## Use the Model to Classify the category of student"
      ]
    },
    {
      "cell_type": "code",
      "metadata": {
        "id": "WVDKz0Ls94pt",
        "colab_type": "code",
        "colab": {
          "base_uri": "https://localhost:8080/",
          "height": 119
        },
        "outputId": "c6294cb5-0e4e-4d3c-9955-ba24cfbb6657"
      },
      "source": [
        "print(\"test data\", X_test[:5])\n",
        "print(\"test lable\", y_test[:5])\n",
        "#0,1,0,0,0"
      ],
      "execution_count": 66,
      "outputs": [
        {
          "output_type": "stream",
          "text": [
            "test data [[ 9 21]\n",
            " [ 7 18]\n",
            " [ 5 23]\n",
            " [ 6 21]\n",
            " [ 8 23]]\n",
            "test lable [0 1 0 0 0]\n"
          ],
          "name": "stdout"
        }
      ]
    },
    {
      "cell_type": "code",
      "metadata": {
        "id": "IwNRmGI7p2b9",
        "colab_type": "code",
        "outputId": "857238e2-b0e6-46ab-96ef-52597b57746a",
        "colab": {
          "base_uri": "https://localhost:8080/",
          "height": 34
        }
      },
      "source": [
        "y_pred = model.predict(X_test)\n",
        "y_pred[:5]"
      ],
      "execution_count": 65,
      "outputs": [
        {
          "output_type": "execute_result",
          "data": {
            "text/plain": [
              "array([0, 1, 0, 0, 0])"
            ]
          },
          "metadata": {
            "tags": []
          },
          "execution_count": 65
        }
      ]
    },
    {
      "cell_type": "markdown",
      "metadata": {
        "id": "4xXZHTiEyN2f",
        "colab_type": "text"
      },
      "source": [
        "# Prediction \n"
      ]
    },
    {
      "cell_type": "code",
      "metadata": {
        "id": "TSqs8-wSqRQC",
        "colab_type": "code",
        "outputId": "ded1874c-bcfa-4397-cc20-8f1f31b8a014",
        "colab": {
          "base_uri": "https://localhost:8080/",
          "height": 34
        }
      },
      "source": [
        "accuracy  = model.score(X_test, y_test)\n",
        "print(\"Accuracy of model >>>\", accuracy * 100, \"%<<<\")"
      ],
      "execution_count": 71,
      "outputs": [
        {
          "output_type": "stream",
          "text": [
            "Accuracy of model >>> 90.7 %<<<\n"
          ],
          "name": "stdout"
        }
      ]
    },
    {
      "cell_type": "code",
      "metadata": {
        "id": "DhiuyUoGqs8o",
        "colab_type": "code",
        "colab": {}
      },
      "source": [
        ""
      ],
      "execution_count": 0,
      "outputs": []
    }
  ]
}